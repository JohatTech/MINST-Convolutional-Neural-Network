{
  "cells": [
    {
      "cell_type": "markdown",
      "metadata": {
        "id": "view-in-github",
        "colab_type": "text"
      },
      "source": [
        "<a href=\"https://colab.research.google.com/github/JohatTech/MINST-Convolutional-Neural-Network/blob/main/MNIST_convolutional_NN.ipynb\" target=\"_parent\"><img src=\"https://colab.research.google.com/assets/colab-badge.svg\" alt=\"Open In Colab\"/></a>"
      ]
    },
    {
      "cell_type": "markdown",
      "source": [
        "# **MINST Convolutional Neural Network**\n",
        "\n",
        "In this project I going to  build a convolutional neural network to predict hand-written digits numbers base on the MINST dataset stored in the Keras database."
      ],
      "metadata": {
        "id": "7gzECcbzvcGk"
      }
    },
    {
      "cell_type": "markdown",
      "source": [
        "In this first section I start importing the necessary libraires and tools for the projects, for example the layers dependencies of keras and others utilitys."
      ],
      "metadata": {
        "id": "3GWRWPmdv1-3"
      }
    },
    {
      "cell_type": "code",
      "execution_count": null,
      "metadata": {
        "id": "8gpkiKqatWAw"
      },
      "outputs": [],
      "source": [
        "#importing libraries\n",
        "import numpy as np\n",
        "import tensorflow as tf\n",
        "import keras\n",
        "import pandas as pd \n",
        "import matplotlib.pyplot as plt \n",
        "#convolutional neural network libraries\n",
        "from keras.layers import Dropout\n",
        "from keras.layers import Flatten\n",
        "from keras.layers import Dense\n",
        "from keras.layers.convolutional import Conv2D\n",
        "from keras.models import Sequential\n",
        "from keras.layers.convolutional import MaxPooling2D\n",
        "from keras.utils.np_utils import to_categorical"
      ]
    },
    {
      "cell_type": "code",
      "execution_count": null,
      "metadata": {
        "colab": {
          "base_uri": "https://localhost:8080/"
        },
        "id": "n4AQwfsCtqvH",
        "outputId": "a39cbb41-6f38-4696-a61d-7d17af9d9ee5"
      },
      "outputs": [
        {
          "output_type": "stream",
          "name": "stdout",
          "text": [
            "Found GPU at: /device:GPU:0\n"
          ]
        }
      ],
      "source": [
        "##check if i have gpu \n",
        "device_name = tf.test.gpu_device_name()\n",
        "if device_name != '/device:GPU:0':\n",
        "  raise SystemError('GPU device not found')\n",
        "print('Found GPU at: {}'.format(device_name))"
      ]
    },
    {
      "cell_type": "markdown",
      "source": [
        "In this section now I'm going to extract the mnist dataset from the keras database and split the data in trainning and the testing sides.\n",
        "\n",
        "After that, I convert the format of the pixels into float32 format which is commonly used in keras arquitectures."
      ],
      "metadata": {
        "id": "zuwb4W_9wp73"
      }
    },
    {
      "cell_type": "code",
      "execution_count": null,
      "metadata": {
        "id": "GU3Xpeq2qIVr",
        "colab": {
          "base_uri": "https://localhost:8080/"
        },
        "outputId": "d6483fd8-e118-48d5-c3c6-8b48194663aa"
      },
      "outputs": [
        {
          "output_type": "stream",
          "name": "stdout",
          "text": [
            "Downloading data from https://storage.googleapis.com/tensorflow/tf-keras-datasets/mnist.npz\n",
            "11493376/11490434 [==============================] - 0s 0us/step\n",
            "11501568/11490434 [==============================] - 0s 0us/step\n"
          ]
        }
      ],
      "source": [
        "#extracting the mnist dataset from keras database\n",
        "(X_train,y_train), (X_test, y_test)= keras.datasets.mnist.load_data()\n",
        "X_train=X_train.reshape(X_train.shape[0], 1,28,28).astype('float32')\n",
        "X_test=X_test.reshape(X_test.shape[0], 1,28,28).astype('float32')"
      ]
    },
    {
      "cell_type": "code",
      "execution_count": null,
      "metadata": {
        "colab": {
          "base_uri": "https://localhost:8080/"
        },
        "id": "STNDW2EMoAbS",
        "outputId": "82acc868-4f4d-49e2-b79e-4e0f6af50ecb"
      },
      "outputs": [
        {
          "output_type": "execute_result",
          "data": {
            "text/plain": [
              "(60000, 1, 28, 28)"
            ]
          },
          "metadata": {},
          "execution_count": 4
        }
      ],
      "source": [
        "X_train.shape"
      ]
    },
    {
      "cell_type": "markdown",
      "source": [
        "Then I scale the shape of the image so they can balanced and don't cause any outliers and problem during the trainning section, in this case, as the color code goes from 0-255 I scale dividing all the data by 255, then I one-hot encode the label of the images using the utility to_categorical.\n"
      ],
      "metadata": {
        "id": "o2SWmjCTxSOp"
      }
    },
    {
      "cell_type": "code",
      "execution_count": null,
      "metadata": {
        "colab": {
          "base_uri": "https://localhost:8080/"
        },
        "id": "Uq19kOxxqIe5",
        "outputId": "033845be-be34-4087-86d6-81c6195ba565"
      },
      "outputs": [
        {
          "output_type": "stream",
          "name": "stdout",
          "text": [
            "10\n"
          ]
        }
      ],
      "source": [
        "X_train=X_train/255\n",
        "X_test=X_test/255\n",
        "y_train= to_categorical(y_train)\n",
        "y_test= to_categorical(y_test)\n",
        "num_classes=y_train.shape[1]\n",
        "print(num_classes)"
      ]
    },
    {
      "cell_type": "code",
      "execution_count": null,
      "metadata": {
        "id": "a1z8-fIioL-w"
      },
      "outputs": [],
      "source": [
        "#function to plot the performance \n",
        "\n",
        "def performance_plot(history):\n",
        "  #convert history object to dataframe\n",
        "  \n",
        "  fig = plt.figure(figsize = (10,5))\n",
        "  fig.add_subplot(1,2,1)\n",
        "  plt.plot(history.history['accuracy'])\n",
        "  plt.plot(history.history['val_accuracy'])\n",
        "  plt.xlabel('epochs')\n",
        "  plt.ylabel('Accuracy') \n",
        "  #Loss vs epochs\n",
        "  fig.add_subplot(1,2,2)\n",
        "  plt.xlabel('epochs')\n",
        "  plt.ylabel('Loss')\n",
        "  plt.plot(history.history['loss'])\n",
        "  plt.plot(history.history['val_loss'])\n",
        "  plt.show()"
      ]
    },
    {
      "cell_type": "code",
      "execution_count": null,
      "metadata": {
        "id": "wksCu1VUt-ic"
      },
      "outputs": [],
      "source": [
        "from keras.layers.pooling import AveragePooling2D\n",
        "optimizer = tf.keras.optimizers.Adam(learning_rate= 0.001)\n",
        "def cnn_model():\n",
        "  Model = Sequential()\n",
        "  Model.add(Conv2D(32,(5,5), padding = 'same', input_shape = (1,28,28),activation = 'relu' ,data_format='channels_first'))\n",
        "\n",
        "  Model.add(AveragePooling2D( pool_size = (2,2), padding = 'same', strides=(2, 2)))\n",
        "  Model.add(Conv2D(64,(5,5), activation = 'relu' ))\n",
        "  Model.add(Dropout(0.2))\n",
        "\n",
        "  Model.add(Conv2D(128,(5,5), activation = 'relu' ))\n",
        "  Model.add(AveragePooling2D( pool_size = (2,2), padding = 'same', strides=(2, 2)))\n",
        "  Model.add(Dropout(0.2))\n",
        "\n",
        "  Model.add(Flatten())\n",
        "  Model.add(Dense(256, activation = 'relu'))\n",
        "  Model.add(Dense(num_classes, activation = 'softmax'))\n",
        "  Model.compile(optimizer = optimizer, loss='categorical_crossentropy', metrics=['accuracy'])\n",
        "  return Model\n"
      ]
    },
    {
      "cell_type": "markdown",
      "source": [
        ""
      ],
      "metadata": {
        "id": "pX9ruuxNjhoO"
      }
    },
    {
      "cell_type": "code",
      "execution_count": null,
      "metadata": {
        "colab": {
          "base_uri": "https://localhost:8080/",
          "height": 1000
        },
        "id": "liOajeNwvJdK",
        "outputId": "c611c744-6d57-4b5b-b146-85e8c29c7ce0"
      },
      "outputs": [
        {
          "output_type": "stream",
          "name": "stdout",
          "text": [
            "Epoch 1/100\n",
            "120/120 - 3s - loss: 0.4252 - accuracy: 0.8657 - val_loss: 0.0732 - val_accuracy: 0.9766 - 3s/epoch - 26ms/step\n",
            "Epoch 2/100\n",
            "120/120 - 3s - loss: 0.0784 - accuracy: 0.9760 - val_loss: 0.0527 - val_accuracy: 0.9831 - 3s/epoch - 21ms/step\n",
            "Epoch 3/100\n",
            "120/120 - 3s - loss: 0.0545 - accuracy: 0.9828 - val_loss: 0.0410 - val_accuracy: 0.9859 - 3s/epoch - 21ms/step\n",
            "Epoch 4/100\n",
            "120/120 - 3s - loss: 0.0443 - accuracy: 0.9865 - val_loss: 0.0335 - val_accuracy: 0.9885 - 3s/epoch - 21ms/step\n",
            "Epoch 5/100\n",
            "120/120 - 3s - loss: 0.0380 - accuracy: 0.9878 - val_loss: 0.0305 - val_accuracy: 0.9897 - 3s/epoch - 21ms/step\n",
            "Epoch 6/100\n",
            "120/120 - 3s - loss: 0.0336 - accuracy: 0.9895 - val_loss: 0.0267 - val_accuracy: 0.9906 - 3s/epoch - 21ms/step\n",
            "Epoch 7/100\n",
            "120/120 - 3s - loss: 0.0283 - accuracy: 0.9910 - val_loss: 0.0269 - val_accuracy: 0.9906 - 3s/epoch - 22ms/step\n",
            "Epoch 8/100\n",
            "120/120 - 3s - loss: 0.0267 - accuracy: 0.9913 - val_loss: 0.0248 - val_accuracy: 0.9922 - 3s/epoch - 22ms/step\n",
            "Epoch 9/100\n",
            "120/120 - 3s - loss: 0.0236 - accuracy: 0.9922 - val_loss: 0.0261 - val_accuracy: 0.9910 - 3s/epoch - 21ms/step\n",
            "Epoch 10/100\n",
            "120/120 - 3s - loss: 0.0209 - accuracy: 0.9934 - val_loss: 0.0263 - val_accuracy: 0.9904 - 3s/epoch - 21ms/step\n",
            "Epoch 11/100\n",
            "120/120 - 3s - loss: 0.0200 - accuracy: 0.9937 - val_loss: 0.0254 - val_accuracy: 0.9908 - 3s/epoch - 21ms/step\n",
            "Epoch 12/100\n",
            "120/120 - 3s - loss: 0.0192 - accuracy: 0.9939 - val_loss: 0.0245 - val_accuracy: 0.9908 - 3s/epoch - 21ms/step\n",
            "Epoch 13/100\n",
            "120/120 - 3s - loss: 0.0158 - accuracy: 0.9948 - val_loss: 0.0248 - val_accuracy: 0.9913 - 3s/epoch - 21ms/step\n",
            "Epoch 14/100\n",
            "120/120 - 3s - loss: 0.0155 - accuracy: 0.9950 - val_loss: 0.0245 - val_accuracy: 0.9916 - 3s/epoch - 21ms/step\n",
            "Epoch 15/100\n",
            "120/120 - 3s - loss: 0.0137 - accuracy: 0.9956 - val_loss: 0.0245 - val_accuracy: 0.9925 - 3s/epoch - 21ms/step\n",
            "Epoch 16/100\n",
            "120/120 - 3s - loss: 0.0130 - accuracy: 0.9954 - val_loss: 0.0289 - val_accuracy: 0.9902 - 3s/epoch - 21ms/step\n",
            "Epoch 17/100\n",
            "120/120 - 3s - loss: 0.0119 - accuracy: 0.9959 - val_loss: 0.0301 - val_accuracy: 0.9906 - 3s/epoch - 21ms/step\n",
            "Epoch 18/100\n",
            "120/120 - 3s - loss: 0.0122 - accuracy: 0.9958 - val_loss: 0.0285 - val_accuracy: 0.9904 - 3s/epoch - 21ms/step\n",
            "Epoch 19/100\n",
            "120/120 - 3s - loss: 0.0102 - accuracy: 0.9966 - val_loss: 0.0297 - val_accuracy: 0.9913 - 3s/epoch - 21ms/step\n",
            "Epoch 19: early stopping\n"
          ]
        },
        {
          "output_type": "display_data",
          "data": {
            "text/plain": [
              "<Figure size 720x360 with 2 Axes>"
            ],
            "image/png": "[encoded data removed]"
          },
          "metadata": {
            "needs_background": "light"
          }
        }
      ],
      "source": [
        "from keras.callbacks import EarlyStopping\n",
        "early_stop=EarlyStopping(monitor='val_loss',mode='min',verbose=1,patience=5)\n",
        "#Early stopping to avoid overfitting of model\n",
        "model_cnn = cnn_model()\n",
        "history = model_cnn.fit(X_train, y_train, validation_data=(X_test,y_test),epochs=100, callbacks=[early_stop], batch_size=500, verbose=2)\n",
        "performance_plot(history)"
      ]
    }
  ],
  "metadata": {
    "accelerator": "GPU",
    "colab": {
      "collapsed_sections": [],
      "name": "MNIST_convolutional_NN.ipynb",
      "provenance": [],
      "authorship_tag": "ABX9TyNbAi8m3L1BACVgl3o1PNUu",
      "include_colab_link": true
    },
    "kernelspec": {
      "display_name": "Python 3",
      "name": "python3"
    },
    "language_info": {
      "name": "python"
    }
  },
  "nbformat": 4,
  "nbformat_minor": 0
}